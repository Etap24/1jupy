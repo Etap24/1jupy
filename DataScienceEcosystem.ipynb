{
 "cells": [
  {
   "cell_type": "markdown",
   "id": "00692764",
   "metadata": {},
   "source": [
    "# Data Science Tools and Ecosystem"
   ]
  },
  {
   "cell_type": "markdown",
   "id": "4568e7c0",
   "metadata": {},
   "source": [
    "In this netbook, Data Science Tools and Ecosystem are summarized."
   ]
  },
  {
   "cell_type": "markdown",
   "id": "038f006d",
   "metadata": {},
   "source": [
    "Objectives:\n",
    "\n",
    "- list popular languages used in Data Science\n",
    "- list commonly libraries for Data Science\n",
    "- list development enviroments OS used in DS\n",
    "- evaluate arithmetic expressions"
   ]
  },
  {
   "cell_type": "markdown",
   "id": "9e9f7db7",
   "metadata": {},
   "source": [
    "Some of the popular languages that Data Scientists use are:\n",
    "    \n",
    "    1. R\n",
    "    2. Python\n",
    "    3. SQL\n",
    "    4. Julia\n",
    "    5. Scala"
   ]
  },
  {
   "cell_type": "markdown",
   "id": "bfa67de6",
   "metadata": {},
   "source": [
    "Some of the commonly used libraries used by Data Scientist include:\n",
    "\n",
    "    1. ggplot2\n",
    "    2. caret\n",
    "    3. NumPy\n",
    "    4. Pandas"
   ]
  },
  {
   "cell_type": "markdown",
   "id": "8b35f8fb",
   "metadata": {},
   "source": [
    "|Data Science Tools|\n",
    "|------------------|\n",
    "|JupiterNotebook|\n",
    "|RStudio|\n",
    "|VS Code|\n",
    "|Spyder|\n"
   ]
  },
  {
   "cell_type": "markdown",
   "id": "a4f88cca",
   "metadata": {},
   "source": [
    "### Below are a few examples of evaluating arithmetic expression in Python."
   ]
  },
  {
   "cell_type": "code",
   "execution_count": 2,
   "id": "acb0fc2b",
   "metadata": {},
   "outputs": [
    {
     "data": {
      "text/plain": [
       "17"
      ]
     },
     "execution_count": 2,
     "metadata": {},
     "output_type": "execute_result"
    }
   ],
   "source": [
    "#This is a simple arithmetic explression to multiply then add integers.\n",
    "(3*4)+5"
   ]
  },
  {
   "cell_type": "code",
   "execution_count": 3,
   "id": "e29c81d8",
   "metadata": {},
   "outputs": [
    {
     "data": {
      "text/plain": [
       "3.3333333333333335"
      ]
     },
     "execution_count": 3,
     "metadata": {},
     "output_type": "execute_result"
    }
   ],
   "source": [
    "#This will convert 200 minutes to hours by dividing by 60.\n",
    "200/60"
   ]
  },
  {
   "cell_type": "markdown",
   "id": "714595de",
   "metadata": {},
   "source": [
    "## Author\n",
    "Miguel Mókosce"
   ]
  },
  {
   "cell_type": "code",
   "execution_count": null,
   "id": "e709ee76",
   "metadata": {},
   "outputs": [],
   "source": []
  }
 ],
 "metadata": {
  "kernelspec": {
   "display_name": "Python 3 (ipykernel)",
   "language": "python",
   "name": "python3"
  },
  "language_info": {
   "codemirror_mode": {
    "name": "ipython",
    "version": 3
   },
   "file_extension": ".py",
   "mimetype": "text/x-python",
   "name": "python",
   "nbconvert_exporter": "python",
   "pygments_lexer": "ipython3",
   "version": "3.7.1"
  }
 },
 "nbformat": 4,
 "nbformat_minor": 5
}
